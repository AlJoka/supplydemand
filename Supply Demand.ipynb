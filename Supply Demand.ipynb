{
 "cells": [
  {
   "cell_type": "code",
   "execution_count": 1,
   "metadata": {
    "scrolled": false
   },
   "outputs": [
    {
     "name": "stderr",
     "output_type": "stream",
     "text": [
      "C:\\Users\\Krika\\Anaconda3\\lib\\site-packages\\matplotlib\\cbook.py:136: MatplotlibDeprecationWarning: The axisbg attribute was deprecated in version 2.0. Use facecolor instead.\n",
      "  warnings.warn(message, mplDeprecation, stacklevel=1)\n"
     ]
    },
    {
     "data": {
      "image/png": "[encoded data removed]",
      "text/plain": [
       "<matplotlib.figure.Figure at 0x5046d68>"
      ]
     },
     "metadata": {},
     "output_type": "display_data"
    }
   ],
   "source": [
    "from numpy import pi, sin\n",
    "import numpy as np\n",
    "import matplotlib.pyplot as plt\n",
    "from matplotlib.widgets import Slider, Button\n",
    "from __future__ import print_function\n",
    "from ipywidgets import interact, interactive, fixed, interact_manual\n",
    "import ipywidgets as widgets\n",
    "from IPython.display import display\n",
    "\n",
    "\n",
    "def demand(a,b):\n",
    "    qd = a-b*p\n",
    "    return qd\n",
    "\n",
    "axis_color = 'lightgoldenrodyellow'\n",
    "\n",
    "\n",
    "fig = plt.figure()\n",
    "ax = fig.add_subplot(111)\n",
    "fig.suptitle('Interactive Supply and Demand model', fontsize=14, fontweight='bold')\n",
    "# Adjust the subplots region to leave some space for the sliders and buttons\n",
    "fig.subplots_adjust(left=0.25, bottom=0.40)\n",
    "\n",
    "p = np.arange(-30, 30)\n",
    "a=11.84\n",
    "b=0.43\n",
    "\n",
    "# Draw the initial plot\n",
    "# The 'line' variable is used for modifying the line later\n",
    "[line] = ax.plot(demand(a, b), p ,  linewidth=5, color='#4bc3ff',label='Demmand Curve')\n",
    "ax.set_xlim([0, 15])\n",
    "ax.set_ylim([0, 20])\n",
    "\n",
    "# Define an axes area and draw a slider in it\n",
    "a_slider_ax  = fig.add_axes([0.25, 0.25, 0.65, 0.03], axisbg=axis_color)\n",
    "a_slider = Slider(a_slider_ax, 'a', 5, 15.0, valinit=a)\n",
    "\n",
    "# Draw another slider\n",
    "b_slider_ax = fig.add_axes([0.25, 0.20, 0.65, 0.03], axisbg=axis_color)\n",
    "b_slider = Slider(b_slider_ax, 'b', 0.0, 1.0, valinit=b)\n",
    "\n",
    "# Define an action for modifying the line when any slider's value changes\n",
    "def sliders_on_changed(val):\n",
    "    line.set_xdata(demand(a_slider.val, b_slider.val))\n",
    "    fig.canvas.draw_idle()\n",
    "a_slider.on_changed(sliders_on_changed)\n",
    "b_slider.on_changed(sliders_on_changed)\n",
    "\n",
    "def supply(c,d):\n",
    "    qs = c+d*p\n",
    "    return qs\n",
    "\n",
    "axis_color = 'lightgoldenrodyellow'\n",
    "\n",
    "# Adjust the subplots region to leave some space for the sliders and buttons\n",
    "\n",
    "c=3.3\n",
    "d=0.44\n",
    "\n",
    "# Draw the initial plot\n",
    "# The 'line' variable is used for modifying the line later\n",
    "[line2] = ax.plot(supply(c, d), p, linewidth=5, color='#ff4b7a',label='Supply Curve')\n",
    "\n",
    "# Define an axes area and draw a slider in it\n",
    "c_slider_ax  = fig.add_axes([0.25, 0.15, 0.65, 0.03], axisbg=axis_color)\n",
    "c_slider = Slider(c_slider_ax, 'c', 0, 6, valinit=c)\n",
    "\n",
    "# Draw another slider\n",
    "d_slider_ax = fig.add_axes([0.25, 0.10, 0.65, 0.03], axisbg=axis_color)\n",
    "d_slider = Slider(d_slider_ax, 'd', 0.0, 1.0, valinit=d)\n",
    "\n",
    "# Define an action for modifying the line when any slider's value changes\n",
    "\n",
    "def sliders_on_changed2(val):\n",
    "    line2.set_xdata(supply(c_slider.val, d_slider.val))\n",
    "    fig.canvas.draw_idle()\n",
    "    \n",
    "c_slider.on_changed(sliders_on_changed2)\n",
    "d_slider.on_changed(sliders_on_changed2)\n",
    "\n",
    "ax.set_xlabel(\"Quantity Demanded\")\n",
    "ax.set_ylabel(\"Price\")\n",
    "ax.grid(color='grey', linestyle='-', linewidth=0.5)\n",
    "plt.show()\n"
   ]
  },
  {
   "cell_type": "code",
   "execution_count": null,
   "metadata": {
    "collapsed": true
   },
   "outputs": [],
   "source": []
  }
 ],
 "metadata": {
  "kernelspec": {
   "display_name": "Python 3",
   "language": "python",
   "name": "python3"
  },
  "language_info": {
   "codemirror_mode": {
    "name": "ipython",
    "version": 3
   },
   "file_extension": ".py",
   "mimetype": "text/x-python",
   "name": "python",
   "nbconvert_exporter": "python",
   "pygments_lexer": "ipython3",
   "version": "3.6.1"
  }
 },
 "nbformat": 4,
 "nbformat_minor": 2
}
